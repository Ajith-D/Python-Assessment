{
 "cells": [
  {
   "cell_type": "code",
   "execution_count": 35,
   "id": "74a96538",
   "metadata": {},
   "outputs": [],
   "source": [
    "import math"
   ]
  },
  {
   "cell_type": "markdown",
   "id": "b2f6d493",
   "metadata": {},
   "source": [
    "## Area of Rectangle"
   ]
  },
  {
   "cell_type": "code",
   "execution_count": 36,
   "id": "421a50ae",
   "metadata": {},
   "outputs": [],
   "source": [
    "length = 50"
   ]
  },
  {
   "cell_type": "code",
   "execution_count": 37,
   "id": "e36eaecc",
   "metadata": {},
   "outputs": [],
   "source": [
    "height = 40"
   ]
  },
  {
   "cell_type": "code",
   "execution_count": 38,
   "id": "b322337a",
   "metadata": {},
   "outputs": [
    {
     "data": {
      "text/plain": [
       "2000"
      ]
     },
     "execution_count": 38,
     "metadata": {},
     "output_type": "execute_result"
    }
   ],
   "source": [
    "Rectangle = length*height\n",
    "Rectangle"
   ]
  },
  {
   "cell_type": "markdown",
   "id": "6c1831f5",
   "metadata": {},
   "source": [
    "## Area of square"
   ]
  },
  {
   "cell_type": "code",
   "execution_count": 39,
   "id": "f193105e",
   "metadata": {},
   "outputs": [
    {
     "name": "stdout",
     "output_type": "stream",
     "text": [
      "Enter the side of the square: 50\n"
     ]
    },
    {
     "data": {
      "text/plain": [
       "50"
      ]
     },
     "execution_count": 39,
     "metadata": {},
     "output_type": "execute_result"
    }
   ],
   "source": [
    "s = int(input('Enter the side of the square: '))\n",
    "s\n"
   ]
  },
  {
   "cell_type": "code",
   "execution_count": 40,
   "id": "5c7f1c57",
   "metadata": {},
   "outputs": [
    {
     "data": {
      "text/plain": [
       "2500"
      ]
     },
     "execution_count": 40,
     "metadata": {},
     "output_type": "execute_result"
    }
   ],
   "source": [
    "square = s*s\n",
    "square"
   ]
  },
  {
   "cell_type": "markdown",
   "id": "757748bb",
   "metadata": {},
   "source": [
    "## Area of Semi - circle"
   ]
  },
  {
   "cell_type": "code",
   "execution_count": 41,
   "id": "a139935a",
   "metadata": {},
   "outputs": [
    {
     "data": {
      "text/plain": [
       "20.0"
      ]
     },
     "execution_count": 41,
     "metadata": {},
     "output_type": "execute_result"
    }
   ],
   "source": [
    "r = height/2\n",
    "r\n"
   ]
  },
  {
   "cell_type": "code",
   "execution_count": 42,
   "id": "ebf8f3d2",
   "metadata": {},
   "outputs": [
    {
     "data": {
      "text/plain": [
       "1256.6370614359173"
      ]
     },
     "execution_count": 42,
     "metadata": {},
     "output_type": "execute_result"
    }
   ],
   "source": [
    "circle = math.pi*r*r\n",
    "circle"
   ]
  },
  {
   "cell_type": "code",
   "execution_count": 43,
   "id": "f2d60930",
   "metadata": {},
   "outputs": [
    {
     "data": {
      "text/plain": [
       "628.3185307179587"
      ]
     },
     "execution_count": 43,
     "metadata": {},
     "output_type": "execute_result"
    }
   ],
   "source": [
    "Semi_circle = circle/2\n",
    "Semi_circle"
   ]
  },
  {
   "cell_type": "markdown",
   "id": "9efc191b",
   "metadata": {},
   "source": [
    "## 1."
   ]
  },
  {
   "cell_type": "code",
   "execution_count": 48,
   "id": "ed0e7bbe",
   "metadata": {},
   "outputs": [
    {
     "data": {
      "text/plain": [
       "1371.6814692820412"
      ]
     },
     "execution_count": 48,
     "metadata": {},
     "output_type": "execute_result"
    }
   ],
   "source": [
    "A = Rectangle - Semi_circle\n",
    "A"
   ]
  },
  {
   "cell_type": "markdown",
   "id": "52240be3",
   "metadata": {},
   "source": [
    "## 2."
   ]
  },
  {
   "cell_type": "code",
   "execution_count": 49,
   "id": "ab3d8fa7",
   "metadata": {},
   "outputs": [
    {
     "data": {
      "text/plain": [
       "2628.3185307179588"
      ]
     },
     "execution_count": 49,
     "metadata": {},
     "output_type": "execute_result"
    }
   ],
   "source": [
    "B = Rectangle + Semi_circle\n",
    "B"
   ]
  },
  {
   "cell_type": "code",
   "execution_count": null,
   "id": "d95aada6",
   "metadata": {},
   "outputs": [],
   "source": []
  }
 ],
 "metadata": {
  "kernelspec": {
   "display_name": "Python 3 (ipykernel)",
   "language": "python",
   "name": "python3"
  },
  "language_info": {
   "codemirror_mode": {
    "name": "ipython",
    "version": 3
   },
   "file_extension": ".py",
   "mimetype": "text/x-python",
   "name": "python",
   "nbconvert_exporter": "python",
   "pygments_lexer": "ipython3",
   "version": "3.10.9"
  }
 },
 "nbformat": 4,
 "nbformat_minor": 5
}
