{
 "cells": [
  {
   "cell_type": "code",
   "execution_count": 2,
   "id": "b90529c2",
   "metadata": {},
   "outputs": [
    {
     "data": {
      "text/plain": [
       "\"Are you a fresher or a final year student applying for a Job? Please read it first. Applying to all the jobs available in the job portal and dreaming that someone would call us for an interview is the 1st mistake you make in your career after graduation. I always wonder why most students comment 'interested' in all jobs without bothering the job's nature. The reason would be, one side you have enough confidence to manage whatever the job would be, but on the other side all the time you just wanted a job with some emotional minds like\""
      ]
     },
     "execution_count": 2,
     "metadata": {},
     "output_type": "execute_result"
    }
   ],
   "source": [
    "text = \"Are you a fresher or a final year student applying for a Job? Please read it first. Applying to all the jobs available in the job portal and dreaming that someone would call us for an interview is the 1st mistake you make in your career after graduation. I always wonder why most students comment 'interested' in all jobs without bothering the job's nature. The reason would be, one side you have enough confidence to manage whatever the job would be, but on the other side all the time you just wanted a job with some emotional minds like\"\n",
    "text"
   ]
  },
  {
   "cell_type": "code",
   "execution_count": 3,
   "id": "9cf2de1b",
   "metadata": {},
   "outputs": [
    {
     "data": {
      "text/plain": [
       "539"
      ]
     },
     "execution_count": 3,
     "metadata": {},
     "output_type": "execute_result"
    }
   ],
   "source": [
    "len(text)"
   ]
  },
  {
   "cell_type": "code",
   "execution_count": 10,
   "id": "261a2beb",
   "metadata": {},
   "outputs": [
    {
     "data": {
      "text/plain": [
       "539"
      ]
     },
     "execution_count": 10,
     "metadata": {},
     "output_type": "execute_result"
    }
   ],
   "source": [
    "# or\n",
    "count = 0 \n",
    "for paragaraph in text:\n",
    "    if text not in '0123456789':\n",
    "        count += 1\n",
    "count"
   ]
  },
  {
   "cell_type": "code",
   "execution_count": 3,
   "id": "786c4725",
   "metadata": {},
   "outputs": [
    {
     "data": {
      "text/plain": [
       "99"
      ]
     },
     "execution_count": 3,
     "metadata": {},
     "output_type": "execute_result"
    }
   ],
   "source": [
    "len(text.split())"
   ]
  },
  {
   "cell_type": "code",
   "execution_count": 11,
   "id": "beddcac3",
   "metadata": {},
   "outputs": [
    {
     "data": {
      "text/plain": [
       "0"
      ]
     },
     "execution_count": 11,
     "metadata": {},
     "output_type": "execute_result"
    }
   ],
   "source": [
    "count = 0\n",
    "for paragraph in text:\n",
    "    if text in '0123456789':\n",
    "        count += 1\n",
    "count"
   ]
  },
  {
   "cell_type": "code",
   "execution_count": 14,
   "id": "3724818f",
   "metadata": {},
   "outputs": [
    {
     "data": {
      "text/plain": [
       "0"
      ]
     },
     "execution_count": 14,
     "metadata": {},
     "output_type": "execute_result"
    }
   ],
   "source": [
    "count = 0 \n",
    "for para in text:\n",
    "    if text in '01234567889' and text.lower() in 'abcdefghijklmnopqrstuvwxyz ':\n",
    "        count += 1\n",
    "count"
   ]
  },
  {
   "cell_type": "code",
   "execution_count": null,
   "id": "5d75a6d5",
   "metadata": {},
   "outputs": [],
   "source": []
  }
 ],
 "metadata": {
  "kernelspec": {
   "display_name": "Python 3 (ipykernel)",
   "language": "python",
   "name": "python3"
  },
  "language_info": {
   "codemirror_mode": {
    "name": "ipython",
    "version": 3
   },
   "file_extension": ".py",
   "mimetype": "text/x-python",
   "name": "python",
   "nbconvert_exporter": "python",
   "pygments_lexer": "ipython3",
   "version": "3.10.9"
  }
 },
 "nbformat": 4,
 "nbformat_minor": 5
}
