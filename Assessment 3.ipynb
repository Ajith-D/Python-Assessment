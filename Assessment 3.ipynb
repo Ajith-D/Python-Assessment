{
 "cells": [
  {
   "cell_type": "code",
   "execution_count": 5,
   "id": "4e4ca4ce",
   "metadata": {},
   "outputs": [],
   "source": [
    "import re"
   ]
  },
  {
   "cell_type": "code",
   "execution_count": 6,
   "id": "165146e6",
   "metadata": {},
   "outputs": [
    {
     "data": {
      "text/plain": [
       "\"Applying to all the jobs available in the job portal and dreaming that someone would call us for an interview is the 1st mistake you make in your career after graduation. I always wonder why most students comment 'interested' in all jobs without bothering the job's nature. The reason would be, one side you have enough confidence to manage whatever the job would be, but on the other side all the time you just wanted a job with some emotional minds like count words, numbers, characters from above text by using jupyter notebook\""
      ]
     },
     "execution_count": 6,
     "metadata": {},
     "output_type": "execute_result"
    }
   ],
   "source": [
    "text = \"Applying to all the jobs available in the job portal and dreaming that someone would call us for an interview is the 1st mistake you make in your career after graduation. I always wonder why most students comment 'interested' in all jobs without bothering the job's nature. The reason would be, one side you have enough confidence to manage whatever the job would be, but on the other side all the time you just wanted a job with some emotional minds like count words, numbers, characters from above text by using jupyter notebook\"\n",
    "text"
   ]
  },
  {
   "cell_type": "code",
   "execution_count": 7,
   "id": "9cf2de1b",
   "metadata": {},
   "outputs": [
    {
     "data": {
      "text/plain": [
       "530"
      ]
     },
     "execution_count": 7,
     "metadata": {},
     "output_type": "execute_result"
    }
   ],
   "source": [
    "len(text)"
   ]
  },
  {
   "cell_type": "code",
   "execution_count": 8,
   "id": "1e2ddb02",
   "metadata": {},
   "outputs": [
    {
     "data": {
      "text/plain": [
       "93"
      ]
     },
     "execution_count": 8,
     "metadata": {},
     "output_type": "execute_result"
    }
   ],
   "source": [
    "len(text.split())"
   ]
  },
  {
   "cell_type": "code",
   "execution_count": 9,
   "id": "3050f99f",
   "metadata": {},
   "outputs": [
    {
     "data": {
      "text/plain": [
       "1"
      ]
     },
     "execution_count": 9,
     "metadata": {},
     "output_type": "execute_result"
    }
   ],
   "source": [
    "len(re.findall(r'\\d+', text))"
   ]
  },
  {
   "cell_type": "code",
   "execution_count": 10,
   "id": "ac746bbb",
   "metadata": {},
   "outputs": [
    {
     "data": {
      "text/plain": [
       "9"
      ]
     },
     "execution_count": 10,
     "metadata": {},
     "output_type": "execute_result"
    }
   ],
   "source": [
    "len(re.findall(r'[^\\w\\s]', text))\n"
   ]
  },
  {
   "cell_type": "code",
   "execution_count": null,
   "id": "ea2f5ccb",
   "metadata": {},
   "outputs": [],
   "source": []
  }
 ],
 "metadata": {
  "kernelspec": {
   "display_name": "Python 3 (ipykernel)",
   "language": "python",
   "name": "python3"
  },
  "language_info": {
   "codemirror_mode": {
    "name": "ipython",
    "version": 3
   },
   "file_extension": ".py",
   "mimetype": "text/x-python",
   "name": "python",
   "nbconvert_exporter": "python",
   "pygments_lexer": "ipython3",
   "version": "3.10.9"
  }
 },
 "nbformat": 4,
 "nbformat_minor": 5
}
