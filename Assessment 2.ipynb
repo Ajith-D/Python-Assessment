{
 "cells": [
  {
   "cell_type": "code",
   "execution_count": 1,
   "id": "b791454d",
   "metadata": {},
   "outputs": [
    {
     "data": {
      "text/plain": [
       "['developers', 'testers', 'recruiters', 'business analyst']"
      ]
     },
     "execution_count": 1,
     "metadata": {},
     "output_type": "execute_result"
    }
   ],
   "source": [
    "available_groups = ['developers', 'testers', 'recruiters', 'business analyst']\n",
    "available_groups"
   ]
  },
  {
   "cell_type": "code",
   "execution_count": 2,
   "id": "115baef3",
   "metadata": {},
   "outputs": [
    {
     "data": {
      "text/plain": [
       "[]"
      ]
     },
     "execution_count": 2,
     "metadata": {},
     "output_type": "execute_result"
    }
   ],
   "source": [
    "joined_groups = []\n",
    "joined_groups"
   ]
  },
  {
   "cell_type": "code",
   "execution_count": 3,
   "id": "c0da0101",
   "metadata": {},
   "outputs": [
    {
     "name": "stdout",
     "output_type": "stream",
     "text": [
      "Do you want to join a group? yes\n",
      "Available groups are: \n",
      "developers\n",
      "testers\n",
      "recruiters\n",
      "business analyst\n",
      "Which group would you like to join? testers\n",
      "Which group would you like to join? developers\n",
      "You have joined: ['testers', 'developers']\n",
      "Do you want to unjoin a group? yes\n",
      "Atleast you have to be in one group\n",
      "Which group would you like to unjoin? developers\n",
      "Joined groups are: ['testers']\n"
     ]
    }
   ],
   "source": [
    "response1 = input('Do you want to join a group? ')\n",
    "\n",
    "if response1.lower() == 'yes':\n",
    "    print('Available groups are: ')\n",
    "    for group in available_groups:\n",
    "        print(group)\n",
    "        \n",
    "    choice_1 = input('Which group would you like to join? ')\n",
    "    choice_2 = input('Which group would you like to join? ')\n",
    "    \n",
    "    joined_groups.append(choice_1)\n",
    "    joined_groups.append(choice_2)\n",
    "    \n",
    "    print(f'You have joined: {joined_groups}')  \n",
    "    \n",
    "else: \n",
    "    print('Ok, may be next time')\n",
    "    \n",
    "    \n",
    "    \n",
    "response2 = input('Do you want to unjoin a group? ')\n",
    "\n",
    "if response2.lower() == 'yes':\n",
    "    print('Atleast you have to be in one group')\n",
    "    \n",
    "    choice_1 = input('Which group would you like to unjoin? ')\n",
    "    joined_groups.remove(choice_1)\n",
    "    \n",
    "    print(f'Joined groups are: {joined_groups}')\n",
    "else:\n",
    "    print('Ok, have a nice day')\n",
    "    "
   ]
  },
  {
   "cell_type": "markdown",
   "id": "9fa8fb92",
   "metadata": {},
   "source": [
    "## Or\n"
   ]
  },
  {
   "cell_type": "code",
   "execution_count": 1,
   "id": "98f77cce",
   "metadata": {},
   "outputs": [
    {
     "data": {
      "text/plain": [
       "['Python devs', 'Machine learning', 'Data analyst', 'Data scientists']"
      ]
     },
     "execution_count": 1,
     "metadata": {},
     "output_type": "execute_result"
    }
   ],
   "source": [
    "groups = ['Python devs', 'Machine learning', 'Data analyst', 'Data scientists']\n",
    "groups"
   ]
  },
  {
   "cell_type": "code",
   "execution_count": 8,
   "id": "1413b2f6",
   "metadata": {},
   "outputs": [
    {
     "data": {
      "text/plain": [
       "[]"
      ]
     },
     "execution_count": 8,
     "metadata": {},
     "output_type": "execute_result"
    }
   ],
   "source": [
    "joined_groups = []\n",
    "joined_groups"
   ]
  },
  {
   "cell_type": "code",
   "execution_count": 9,
   "id": "151525ef",
   "metadata": {},
   "outputs": [
    {
     "name": "stdout",
     "output_type": "stream",
     "text": [
      "do you want to join the Python devs? yes\n",
      "do you want to join the Machine learning? yes\n",
      "do you want to join the Data analyst? no\n",
      "do you want to join the Data scientists? no\n"
     ]
    },
    {
     "data": {
      "text/plain": [
       "['Python devs', 'Machine learning']"
      ]
     },
     "execution_count": 9,
     "metadata": {},
     "output_type": "execute_result"
    }
   ],
   "source": [
    "for group in groups:\n",
    "    response = input(f'do you want to join the {group}? ')\n",
    "    if response == 'yes':\n",
    "        joined_groups.append(group)\n",
    "    \n",
    "joined_groups   \n",
    "    "
   ]
  },
  {
   "cell_type": "code",
   "execution_count": 10,
   "id": "7f02384b",
   "metadata": {},
   "outputs": [
    {
     "data": {
      "text/plain": [
       "['Python devs']"
      ]
     },
     "execution_count": 10,
     "metadata": {},
     "output_type": "execute_result"
    }
   ],
   "source": [
    "joined_groups.remove('Machine learning')\n",
    "joined_groups"
   ]
  },
  {
   "cell_type": "code",
   "execution_count": null,
   "id": "3e3541de",
   "metadata": {},
   "outputs": [],
   "source": []
  }
 ],
 "metadata": {
  "kernelspec": {
   "display_name": "Python 3 (ipykernel)",
   "language": "python",
   "name": "python3"
  },
  "language_info": {
   "codemirror_mode": {
    "name": "ipython",
    "version": 3
   },
   "file_extension": ".py",
   "mimetype": "text/x-python",
   "name": "python",
   "nbconvert_exporter": "python",
   "pygments_lexer": "ipython3",
   "version": "3.10.9"
  }
 },
 "nbformat": 4,
 "nbformat_minor": 5
}
