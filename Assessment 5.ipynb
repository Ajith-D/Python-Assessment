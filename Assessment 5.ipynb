{
 "cells": [
  {
   "cell_type": "code",
   "execution_count": 2,
   "id": "2083108c",
   "metadata": {},
   "outputs": [],
   "source": [
    "import math"
   ]
  },
  {
   "cell_type": "markdown",
   "id": "10576e4f",
   "metadata": {},
   "source": [
    "## Sin"
   ]
  },
  {
   "cell_type": "code",
   "execution_count": 3,
   "id": "eaf40763",
   "metadata": {},
   "outputs": [
    {
     "data": {
      "text/plain": [
       "0.7738906815578891"
      ]
     },
     "execution_count": 3,
     "metadata": {},
     "output_type": "execute_result"
    }
   ],
   "source": [
    "math.sin(70)"
   ]
  },
  {
   "cell_type": "code",
   "execution_count": 4,
   "id": "d7341bb7",
   "metadata": {},
   "outputs": [],
   "source": [
    "rad = math.radians(70) "
   ]
  },
  {
   "cell_type": "code",
   "execution_count": 5,
   "id": "9a700566",
   "metadata": {},
   "outputs": [
    {
     "data": {
      "text/plain": [
       "0.9396926207859083"
      ]
     },
     "execution_count": 5,
     "metadata": {},
     "output_type": "execute_result"
    }
   ],
   "source": [
    "math.sin(rad)"
   ]
  },
  {
   "cell_type": "markdown",
   "id": "90bd94f4",
   "metadata": {},
   "source": [
    "## Tan"
   ]
  },
  {
   "cell_type": "code",
   "execution_count": 6,
   "id": "4bf7ae77",
   "metadata": {},
   "outputs": [
    {
     "data": {
      "text/plain": [
       "1.2219599181369434"
      ]
     },
     "execution_count": 6,
     "metadata": {},
     "output_type": "execute_result"
    }
   ],
   "source": [
    "math.tan(70)"
   ]
  },
  {
   "cell_type": "code",
   "execution_count": 7,
   "id": "411161bc",
   "metadata": {},
   "outputs": [],
   "source": [
    "rad = math.radians(70) "
   ]
  },
  {
   "cell_type": "code",
   "execution_count": 8,
   "id": "cf380f67",
   "metadata": {},
   "outputs": [
    {
     "data": {
      "text/plain": [
       "2.7474774194546216"
      ]
     },
     "execution_count": 8,
     "metadata": {},
     "output_type": "execute_result"
    }
   ],
   "source": [
    "math.tan(rad)"
   ]
  },
  {
   "cell_type": "markdown",
   "id": "fe83312c",
   "metadata": {},
   "source": [
    "## Cos"
   ]
  },
  {
   "cell_type": "code",
   "execution_count": 9,
   "id": "61c7c55c",
   "metadata": {},
   "outputs": [
    {
     "data": {
      "text/plain": [
       "0.40808206181339196"
      ]
     },
     "execution_count": 9,
     "metadata": {},
     "output_type": "execute_result"
    }
   ],
   "source": [
    "math.cos(20)"
   ]
  },
  {
   "cell_type": "code",
   "execution_count": 10,
   "id": "a88467b4",
   "metadata": {},
   "outputs": [],
   "source": [
    "rad = math.radians(20) "
   ]
  },
  {
   "cell_type": "code",
   "execution_count": 11,
   "id": "5e200145",
   "metadata": {},
   "outputs": [
    {
     "data": {
      "text/plain": [
       "0.9396926207859084"
      ]
     },
     "execution_count": 11,
     "metadata": {},
     "output_type": "execute_result"
    }
   ],
   "source": [
    "math.cos(rad)"
   ]
  },
  {
   "cell_type": "markdown",
   "id": "3e8e627b",
   "metadata": {},
   "source": [
    "## Cosec"
   ]
  },
  {
   "cell_type": "code",
   "execution_count": 7,
   "id": "f2cfd28d",
   "metadata": {},
   "outputs": [],
   "source": [
    "rad = math.radians(45)"
   ]
  },
  {
   "cell_type": "code",
   "execution_count": 8,
   "id": "c1433ad2",
   "metadata": {},
   "outputs": [
    {
     "data": {
      "text/plain": [
       "0.7071067811865476"
      ]
     },
     "execution_count": 8,
     "metadata": {},
     "output_type": "execute_result"
    }
   ],
   "source": [
    "math.sin(rad)"
   ]
  },
  {
   "cell_type": "code",
   "execution_count": 17,
   "id": "3b0afd19",
   "metadata": {},
   "outputs": [],
   "source": [
    "sin_value = math.sin(rad)"
   ]
  },
  {
   "cell_type": "code",
   "execution_count": 20,
   "id": "c208f436",
   "metadata": {},
   "outputs": [
    {
     "data": {
      "text/plain": [
       "1.414213562373095"
      ]
     },
     "execution_count": 20,
     "metadata": {},
     "output_type": "execute_result"
    }
   ],
   "source": [
    "cosec = (1/(sin_value))\n",
    "cosec"
   ]
  },
  {
   "cell_type": "markdown",
   "id": "53a8e917",
   "metadata": {},
   "source": [
    "## Sec"
   ]
  },
  {
   "cell_type": "code",
   "execution_count": 21,
   "id": "bceb2b7a",
   "metadata": {},
   "outputs": [],
   "source": [
    "rad = math.radians(65)"
   ]
  },
  {
   "cell_type": "code",
   "execution_count": 22,
   "id": "33b0e0c2",
   "metadata": {},
   "outputs": [
    {
     "data": {
      "text/plain": [
       "0.42261826174069944"
      ]
     },
     "execution_count": 22,
     "metadata": {},
     "output_type": "execute_result"
    }
   ],
   "source": [
    "math.cos(rad)"
   ]
  },
  {
   "cell_type": "code",
   "execution_count": 23,
   "id": "2121f578",
   "metadata": {},
   "outputs": [],
   "source": [
    "cos_value = math.cos(rad)"
   ]
  },
  {
   "cell_type": "code",
   "execution_count": 24,
   "id": "cf410022",
   "metadata": {},
   "outputs": [
    {
     "data": {
      "text/plain": [
       "2.3662015831524985"
      ]
     },
     "execution_count": 24,
     "metadata": {},
     "output_type": "execute_result"
    }
   ],
   "source": [
    "sec = (1/(cos_value))\n",
    "sec"
   ]
  },
  {
   "cell_type": "markdown",
   "id": "a781562e",
   "metadata": {},
   "source": [
    "## cot"
   ]
  },
  {
   "cell_type": "code",
   "execution_count": 25,
   "id": "b0158c62",
   "metadata": {},
   "outputs": [],
   "source": [
    "rad = math.radians(35)"
   ]
  },
  {
   "cell_type": "code",
   "execution_count": 26,
   "id": "c3c73993",
   "metadata": {},
   "outputs": [
    {
     "data": {
      "text/plain": [
       "0.7002075382097097"
      ]
     },
     "execution_count": 26,
     "metadata": {},
     "output_type": "execute_result"
    }
   ],
   "source": [
    "math.tan(rad)"
   ]
  },
  {
   "cell_type": "code",
   "execution_count": 27,
   "id": "a529fd63",
   "metadata": {},
   "outputs": [],
   "source": [
    "tan_value = math.tan(rad)"
   ]
  },
  {
   "cell_type": "code",
   "execution_count": 28,
   "id": "baab0db4",
   "metadata": {},
   "outputs": [
    {
     "data": {
      "text/plain": [
       "1.4281480067421146"
      ]
     },
     "execution_count": 28,
     "metadata": {},
     "output_type": "execute_result"
    }
   ],
   "source": [
    "cot = (1/(tan_value))\n",
    "cot"
   ]
  },
  {
   "cell_type": "code",
   "execution_count": null,
   "id": "24f6f5c7",
   "metadata": {},
   "outputs": [],
   "source": []
  }
 ],
 "metadata": {
  "kernelspec": {
   "display_name": "Python 3 (ipykernel)",
   "language": "python",
   "name": "python3"
  },
  "language_info": {
   "codemirror_mode": {
    "name": "ipython",
    "version": 3
   },
   "file_extension": ".py",
   "mimetype": "text/x-python",
   "name": "python",
   "nbconvert_exporter": "python",
   "pygments_lexer": "ipython3",
   "version": "3.10.9"
  }
 },
 "nbformat": 4,
 "nbformat_minor": 5
}
