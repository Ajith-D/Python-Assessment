{
 "cells": [
  {
   "cell_type": "code",
   "execution_count": 1,
   "id": "37d60001",
   "metadata": {},
   "outputs": [],
   "source": [
    "userName =['Ajith', 'Rahul', 'kiruba']\n",
    "mailId = ['aj@gmail.com', 'rah@gmail.com', 'kirub@gmail.com']\n",
    "number =  [8610401969, 8976542321, 9887098776]"
   ]
  },
  {
   "cell_type": "code",
   "execution_count": 2,
   "id": "264c6ed6",
   "metadata": {},
   "outputs": [
    {
     "data": {
      "text/plain": [
       "[]"
      ]
     },
     "execution_count": 2,
     "metadata": {},
     "output_type": "execute_result"
    }
   ],
   "source": [
    "newuser= []\n",
    "newuser"
   ]
  },
  {
   "cell_type": "code",
   "execution_count": 3,
   "id": "ee6dc965",
   "metadata": {},
   "outputs": [
    {
     "name": "stdout",
     "output_type": "stream",
     "text": [
      "Enter the Username: Ajith\n",
      "Enter the Mail ID: aj@gmail.com\n",
      "Enter the Number: 8610401969\n",
      "Enable signup\n",
      "Valid Email address\n"
     ]
    }
   ],
   "source": [
    "User_name = input('Enter the Username: ')\n",
    "Mail_id = input('Enter the Mail ID: ')\n",
    "Number = int(input('Enter the Number: '))\n",
    "\n",
    "\n",
    "if User_name in userName and Mail_id in mailId and Number in number:\n",
    "    print('Enable signup')\n",
    "    if '@' in Mail_id and '.com' in Mail_id:\n",
    "        print('Valid Email address')\n",
    "    else:\n",
    "        print('Invalid Email address')\n",
    "else:\n",
    "    print('Create new acount')\n"
   ]
  },
  {
   "cell_type": "code",
   "execution_count": 4,
   "id": "b5b1b22a",
   "metadata": {},
   "outputs": [
    {
     "name": "stdout",
     "output_type": "stream",
     "text": [
      "Do you wnat to create new account? no\n",
      "Ok, Have a nice day\n"
     ]
    }
   ],
   "source": [
    "response = input('Do you wnat to create new account? ')\n",
    "\n",
    "if response == 'yes':\n",
    "    \n",
    "    NewUser_name = input('Enter The Name: ')\n",
    "    New_mailid = input('Enter the Mail id: ')\n",
    "    New_number = int(input('Enter the number: '))\n",
    "    \n",
    "    if NewUser_name in userName:\n",
    "        print('Username already exist')\n",
    "    else:\n",
    "        print('Valid Username')\n",
    "        \n",
    "    if New_mailid in mailId:\n",
    "        print('Email address already exist')\n",
    "    else:\n",
    "        print('Valid Email address ')\n",
    "        \n",
    "    if New_number in number:\n",
    "        print('Number Already exist')\n",
    "    else:\n",
    "        print('Valid number')\n",
    "       \n",
    "    \n",
    "    if NewUser_name not in userName and New_mailid not in mailId and New_number not in number:\n",
    "        \n",
    "        newuser.append(NewUser_name)\n",
    "        newuser.append(New_mailid)\n",
    "        newuser.append(New_number)\n",
    "           \n",
    "    \n",
    "    print(f'your Account detials are: {newuser}')\n",
    "    \n",
    "    \n",
    "else:\n",
    "    print('Ok, Have a nice day')"
   ]
  },
  {
   "cell_type": "markdown",
   "id": "18a95bf4",
   "metadata": {},
   "source": [
    "## Answer\n"
   ]
  },
  {
   "cell_type": "code",
   "execution_count": 60,
   "id": "08d3a785",
   "metadata": {},
   "outputs": [
    {
     "data": {
      "text/plain": [
       "[]"
      ]
     },
     "execution_count": 60,
     "metadata": {},
     "output_type": "execute_result"
    }
   ],
   "source": [
    "users = []\n",
    "users"
   ]
  },
  {
   "cell_type": "code",
   "execution_count": 61,
   "id": "f50975f0",
   "metadata": {},
   "outputs": [
    {
     "name": "stdout",
     "output_type": "stream",
     "text": [
      "Enter the name:Ajith\n",
      "Enter the mail id: aj@gmail.com\n",
      "Enter the mobile number: 7687899879\n"
     ]
    }
   ],
   "source": [
    "username = input('Enter the name:')\n",
    "mail = input('Enter the mail id: ')\n",
    "number = input('Enter the mobile number: ')"
   ]
  },
  {
   "cell_type": "code",
   "execution_count": 62,
   "id": "e5b6c88d",
   "metadata": {},
   "outputs": [],
   "source": [
    "user = {\n",
    "    'userName' : username,\n",
    "    'mail' : mail,\n",
    "    'number' : number,\n",
    "}"
   ]
  },
  {
   "cell_type": "code",
   "execution_count": 63,
   "id": "9a1bbb85",
   "metadata": {},
   "outputs": [
    {
     "data": {
      "text/plain": [
       "{'userName': 'Ajith', 'mail': 'aj@gmail.com', 'number': '7687899879'}"
      ]
     },
     "execution_count": 63,
     "metadata": {},
     "output_type": "execute_result"
    }
   ],
   "source": [
    "user"
   ]
  },
  {
   "cell_type": "code",
   "execution_count": 64,
   "id": "9f2f2d91",
   "metadata": {},
   "outputs": [
    {
     "data": {
      "text/plain": [
       "[{'userName': 'Ajith', 'mail': 'aj@gmail.com', 'number': '7687899879'}]"
      ]
     },
     "execution_count": 64,
     "metadata": {},
     "output_type": "execute_result"
    }
   ],
   "source": [
    "users.append(user)\n",
    "users"
   ]
  },
  {
   "cell_type": "code",
   "execution_count": null,
   "id": "f1b4c859",
   "metadata": {},
   "outputs": [],
   "source": [
    "\n",
    "if username[user] == username[users]:\n",
    "    print('Username already exists')\n",
    "    break\n",
    "else:\n",
    "    users.append(user)"
   ]
  },
  {
   "cell_type": "code",
   "execution_count": 59,
   "id": "b9c74e5e",
   "metadata": {},
   "outputs": [
    {
     "ename": "KeyError",
     "evalue": "'Sathish'",
     "output_type": "error",
     "traceback": [
      "\u001b[1;31m---------------------------------------------------------------------------\u001b[0m",
      "\u001b[1;31mKeyError\u001b[0m                                  Traceback (most recent call last)",
      "Cell \u001b[1;32mIn[59], line 2\u001b[0m\n\u001b[0;32m      1\u001b[0m \u001b[38;5;28;01mfor\u001b[39;00m user \u001b[38;5;129;01min\u001b[39;00m users:\n\u001b[1;32m----> 2\u001b[0m     \u001b[38;5;28;01mfor\u001b[39;00m char \u001b[38;5;129;01min\u001b[39;00m \u001b[43muser\u001b[49m\u001b[43m[\u001b[49m\u001b[43musername\u001b[49m\u001b[43m]\u001b[49m:\n\u001b[0;32m      3\u001b[0m         \u001b[38;5;28mprint\u001b[39m(char)\n",
      "\u001b[1;31mKeyError\u001b[0m: 'Sathish'"
     ]
    }
   ],
   "source": [
    "for user in users:\n",
    "    for char in user[username]:\n",
    "        print(char)"
   ]
  },
  {
   "cell_type": "code",
   "execution_count": null,
   "id": "3bf90260",
   "metadata": {},
   "outputs": [],
   "source": []
  }
 ],
 "metadata": {
  "kernelspec": {
   "display_name": "Python 3 (ipykernel)",
   "language": "python",
   "name": "python3"
  },
  "language_info": {
   "codemirror_mode": {
    "name": "ipython",
    "version": 3
   },
   "file_extension": ".py",
   "mimetype": "text/x-python",
   "name": "python",
   "nbconvert_exporter": "python",
   "pygments_lexer": "ipython3",
   "version": "3.10.9"
  }
 },
 "nbformat": 4,
 "nbformat_minor": 5
}
