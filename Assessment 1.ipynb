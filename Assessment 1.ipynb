{
 "cells": [
  {
   "cell_type": "markdown",
   "id": "afbc9fac",
   "metadata": {},
   "source": [
    "## Example 1"
   ]
  },
  {
   "cell_type": "code",
   "execution_count": null,
   "id": "c26231cf",
   "metadata": {},
   "outputs": [],
   "source": [
    "user_name = input('Enter the name: ')\n",
    "mail_Id = input('Enter mail Address: ')\n",
    "mobile = int(input('Enter the number: '))\n",
    "condition = input('enter the condition: ')"
   ]
  },
  {
   "cell_type": "code",
   "execution_count": null,
   "id": "d9369f60",
   "metadata": {},
   "outputs": [],
   "source": [
    "if user_name == 'ajith':\n",
    "    print('valid username')\n",
    "else:\n",
    "    print('Enter the Username')\n",
    "    \n",
    "if '@' and '.com' in mail_Id:\n",
    "    print('Access granted')\n",
    "else:\n",
    "    print('invalid Email address')\n",
    "    \n",
    "if mobile == 8610401969:\n",
    "    print('valid mobile number')\n",
    "else:\n",
    "    print('Enter valid number')\n",
    "    \n",
    "if condition == 'Agreed':\n",
    "    print('Signup')\n",
    "else:\n",
    "    print('Access deneid')"
   ]
  },
  {
   "cell_type": "code",
   "execution_count": null,
   "id": "9ec3082b",
   "metadata": {},
   "outputs": [],
   "source": [
    "user_name = input('Enter the name: ')\n",
    "mail_Id = input('Enter mail Address: ')\n",
    "mobile = int(input('Enter the number: '))\n",
    "condition = input('enter the condition: ')"
   ]
  },
  {
   "cell_type": "code",
   "execution_count": null,
   "id": "49f1842d",
   "metadata": {},
   "outputs": [],
   "source": [
    "if user_name == 'kiruba':\n",
    "    print('valid username')\n",
    "else:\n",
    "    print('Enter the Username')\n",
    "    \n",
    "if '@' and '.com' in mail_Id:\n",
    "    print('Access granted')\n",
    "else:\n",
    "    print('invalid Email address')\n",
    "    \n",
    "if mobile == 9867439876:\n",
    "    print('valid mobile number')\n",
    "else:\n",
    "    print('Enter valid number')\n",
    "    \n",
    "if condition == 'Agreed':\n",
    "    print('Signup')\n",
    "else:\n",
    "    print('Access deneid')"
   ]
  },
  {
   "cell_type": "code",
   "execution_count": null,
   "id": "c2844e5e",
   "metadata": {},
   "outputs": [],
   "source": [
    "user_name = input('Enter the name: ')\n",
    "mail_Id = input('Enter mail Address: ')\n",
    "mobile = int(input('Enter the number: '))\n",
    "condition = input('enter the condition: ')"
   ]
  },
  {
   "cell_type": "code",
   "execution_count": null,
   "id": "c4a2cc76",
   "metadata": {},
   "outputs": [],
   "source": [
    "if user_name == 'rahul':\n",
    "    print('valid username')\n",
    "else:\n",
    "    print('Enter the Username')\n",
    "    \n",
    "if '@' and '.com' in mail_Id:\n",
    "    print('Access granted')\n",
    "else:\n",
    "    print('invalid Email address')\n",
    "    \n",
    "if mobile == 8765432109:\n",
    "    print('valid mobile number')\n",
    "else:\n",
    "    print('Enter valid number')\n",
    "    \n",
    "if condition == 'Agreed':\n",
    "    print('Signup')\n",
    "else:\n",
    "    print('Access deneid')"
   ]
  },
  {
   "cell_type": "markdown",
   "id": "0ce83931",
   "metadata": {},
   "source": [
    "## Example 2\n"
   ]
  },
  {
   "cell_type": "code",
   "execution_count": 4,
   "id": "37d60001",
   "metadata": {},
   "outputs": [],
   "source": [
    "userName =['Ajith', 'Rahul', 'kiruba']\n",
    "mailId = ['aj@gmail.com', 'rah@gmail.com', 'kirub@gmail.com']\n",
    "number =  [8610401969, 8976542321, 9887098776]\n"
   ]
  },
  {
   "cell_type": "code",
   "execution_count": 5,
   "id": "264c6ed6",
   "metadata": {},
   "outputs": [
    {
     "data": {
      "text/plain": [
       "[]"
      ]
     },
     "execution_count": 5,
     "metadata": {},
     "output_type": "execute_result"
    }
   ],
   "source": [
    "newuser= []\n",
    "newuser"
   ]
  },
  {
   "cell_type": "code",
   "execution_count": 15,
   "id": "ee6dc965",
   "metadata": {},
   "outputs": [
    {
     "name": "stdout",
     "output_type": "stream",
     "text": [
      "Enter the Username: rj\n",
      "Enter the Mail ID: aj2gmail.com\n",
      "Enter the Number: 6768\n",
      "Create new acount\n",
      "Do you wnat to create account? yes\n",
      "Enter The Name: raj\n",
      "Enter the Mail id: rj@gmail.com\n",
      "Enter the number: 688787\n",
      "your new user detials are: ['Raj', 'raj@gmail.com', 6776687, 'raj', 'rj@gmail.com', 688787]\n"
     ]
    }
   ],
   "source": [
    "User_name = input('Enter the Username: ')\n",
    "Mail_id = input('Enter the Mail ID: ')\n",
    "Number = int(input('Enter the Number: '))\n",
    "\n",
    "\n",
    "if User_name.lower in userName and Mail_id in mailId and Number in number:\n",
    "    print('Enable signup')\n",
    "else:\n",
    "    print('Create new acount')\n",
    "    \n",
    "response = input('Do you wnat to create account? ')\n",
    "\n",
    "if response == 'yes':\n",
    "    \n",
    "    NewUser_name = input('Enter The Name: ')\n",
    "    New_mailid = input('Enter the Mail id: ')\n",
    "    New_number = int(input('Enter the number: '))\n",
    "    \n",
    "    newuser.append(NewUser_name)\n",
    "    newuser.append(New_mailid)\n",
    "    newuser.append(New_number)\n",
    "    \n",
    "    print(f'your new user detials are: {newuser}')\n",
    "    \n",
    "    \n",
    "else:\n",
    "    print('Try some other time')"
   ]
  },
  {
   "cell_type": "code",
   "execution_count": null,
   "id": "d1e5b14e",
   "metadata": {},
   "outputs": [],
   "source": [
    "if User_name not in userName:\n",
    "    print('You are new User')"
   ]
  },
  {
   "cell_type": "code",
   "execution_count": null,
   "id": "b5b1b22a",
   "metadata": {},
   "outputs": [],
   "source": []
  }
 ],
 "metadata": {
  "kernelspec": {
   "display_name": "Python 3 (ipykernel)",
   "language": "python",
   "name": "python3"
  },
  "language_info": {
   "codemirror_mode": {
    "name": "ipython",
    "version": 3
   },
   "file_extension": ".py",
   "mimetype": "text/x-python",
   "name": "python",
   "nbconvert_exporter": "python",
   "pygments_lexer": "ipython3",
   "version": "3.10.9"
  }
 },
 "nbformat": 4,
 "nbformat_minor": 5
}
